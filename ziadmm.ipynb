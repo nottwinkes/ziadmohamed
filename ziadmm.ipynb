{
 "cells": [
  {
   "cell_type": "markdown",
   "metadata": {},
   "source": [
    "<center>\n",
    "    <img src=\"https://cf-courses-data.s3.us.cloud-object-storage.appdomain.cloud/IBMDeveloperSkillsNetwork-DS0105EN-SkillsNetwork/labs/Module2/images/SN_web_lightmode.png\" width=\"300\" alt=\"cognitiveclass.ai logo\">\n",
    "</center>\n"
   ]
  },
  {
   "cell_type": "markdown",
   "metadata": {},
   "source": [
    "# Hands-on Lab: Create your Jupyter Notebook\n"
   ]
  },
  {
   "cell_type": "markdown",
   "metadata": {},
   "source": [
    "#### Add your code below following the instructions given in the course\n"
   ]
  },
  {
   "cell_type": "markdown",
   "metadata": {},
   "source": [
    "# The Title of the notebook"
   ]
  },
  {
   "cell_type": "markdown",
   "metadata": {},
   "source": [
    "### Introduction\n",
    "\n",
    "This notebook provides a hands-on introduction to basic Python programming concepts. It covers fundamental arithmetic operations, user input handling, and simple time conversion tasks. The exercises are designed to build foundational skills that are essential for data analysis and automation using Python.\n"
   ]
  },
  {
   "cell_type": "markdown",
   "metadata": {},
   "source": [
    "# Data Scince Languages\n",
    "Here are some popular languages used in Data Scince:\n",
    "- Python\n",
    "- R\n",
    "- SQL\n",
    "- julia\n",
    "- Scala\n",
    "- JS\n",
    "- Java\n",
    "- C++\n",
    "- PHP"
   ]
  },
  {
   "cell_type": "markdown",
   "metadata": {},
   "source": [
    "# Popular Data Science Libraries\n",
    "\n",
    "- **NumPy** – Fundamental package for numerical computing with Python.\n",
    "- **Pandas** – Provides data structures and data analysis tools.\n",
    "- **Matplotlib** – Plotting library for creating static, animated, and interactive visualizations.\n",
    "- **Seaborn** – Statistical data visualization built on top of Matplotlib.\n",
    "- **Scikit-learn** – Machine learning library for classification, regression, and clustering.\n",
    "- **TensorFlow** – End-to-end open-source platform for machine learning.\n",
    "- **Keras** – High-level neural networks API, running on top of TensorFlow.\n",
    "- **PyTorch** – Deep learning framework with dynamic computation graphs.\n",
    "- **Statsmodels** – Estimation of statistical models and tests.\n",
    "- **XGBoost** – Gradient boosting framework optimized for performance\n",
    "\n"
   ]
  },
  {
   "cell_type": "markdown",
   "metadata": {},
   "source": [
    "### Data Science Tools\n",
    "\n",
    "| Tool           | Category             | Description                                               |\n",
    "|----------------|----------------------|-----------------------------------------------------------|\n",
    "| Jupyter Notebook | IDE / Environment  | Interactive environment for writing and running code      |\n",
    "| RStudio        | IDE / Environment    | IDE for R, often used in statistical computing            |\n",
    "| VS Code        | IDE / Environment    | Lightweight code editor with support for Python and Jupyter |\n",
    "| Tableau        | Data Visualization   | Powerful data visualization and business intelligence tool |\n",
    "| Matplotib       | Data Visualization   | Microsoft’s interactive data visualization tool           |\n",
    "| Scikit learn       | Machine learning        | Widely used tool for basic data analysis and visualization |\n",
    "| Apache Spark   | Big Data Processing  | Engine for large-scale data processing                    |\n",
    "| Hadoop         | Data Management      | Framework for distributed storage and processing of data  |\n",
    "| Git            | Version Control      | System for tracking code changes                          |\n",
    "| Pytorch         | Deep learning          | Tool for containerizing applications                      |\n"
   ]
  },
  {
   "cell_type": "markdown",
   "metadata": {},
   "source": [
    "### Introduction to Arithmetic Expressions\n",
    "\n",
    "Arithmetic expressions are used to perform basic mathematical operations. These operations include addition, subtraction, multiplication, and division. Below are some examples:\n",
    "\n",
    "- **Addition**: `5 + 3 = 8`\n",
    "- **Subtraction**: `10 - 4 = 6`\n",
    "- **Multiplication**: `6 * 7 = 42`\n",
    "- **Division**: `20 / 4 = 5`\n",
    "\n",
    "You can combine operations and use parentheses to control the order of evaluation:\n",
    "\n",
    "- **Combined Expression**: `(2 + 3) * 4 = 20`\n"
   ]
  },
  {
   "cell_type": "code",
   "execution_count": 8,
   "metadata": {},
   "outputs": [
    {
     "name": "stdout",
     "output_type": "stream",
     "text": [
      "Product: 42\n",
      "Sum: 15\n"
     ]
    }
   ],
   "source": [
    "# Multiplying two numbers\n",
    "product = 6 * 7\n",
    "\n",
    "# Adding two numbers\n",
    "sum = 10 + 5\n",
    "\n",
    "print(\"Product:\", product)\n",
    "print(\"Sum:\", sum)\n"
   ]
  },
  {
   "cell_type": "code",
   "execution_count": 1,
   "metadata": {},
   "outputs": [
    {
     "name": "stdin",
     "output_type": "stream",
     "text": [
      "60:  60\n"
     ]
    },
    {
     "name": "stdout",
     "output_type": "stream",
     "text": [
      "60.0 minutes is equal to 1.0 hours.\n"
     ]
    }
   ],
   "source": [
    "# Get input from the user\n",
    "minutes = float(input(\"60: \"))\n",
    "\n",
    "# Convert minutes to hours\n",
    "hours = minutes / 60\n",
    "\n",
    "# Display the result\n",
    "print(f\"{minutes} minutes is equal to {hours} hours.\")\n"
   ]
  },
  {
   "cell_type": "markdown",
   "metadata": {},
   "source": [
    "### Objectives\n",
    "- Title\n",
    "- Introuduction\n",
    "- Understand basic arithmetic operations in Python\n",
    "- Learn how to use input and output functions\n",
    "- Practice converting time units (minutes to hours and minutes)\n",
    "- Get familiar with writing and organizing code in Jupyter Notebook\n",
    "- Develop problem-solving skills using simple Python programs\n"
   ]
  },
  {
   "cell_type": "markdown",
   "metadata": {},
   "source": [
    "**Author:** Ziad Mohamed"
   ]
  },
  {
   "cell_type": "code",
   "execution_count": null,
   "metadata": {},
   "outputs": [],
   "source": []
  }
 ],
 "metadata": {
  "kernelspec": {
   "display_name": "Python [conda env:base] *",
   "language": "python",
   "name": "conda-base-py"
  },
  "language_info": {
   "codemirror_mode": {
    "name": "ipython",
    "version": 3
   },
   "file_extension": ".py",
   "mimetype": "text/x-python",
   "name": "python",
   "nbconvert_exporter": "python",
   "pygments_lexer": "ipython3",
   "version": "3.12.7"
  },
  "prev_pub_hash": "9e1985db9844176462bd1d5863048c9f3d17404bbc6a648be9084b0c42b29347"
 },
 "nbformat": 4,
 "nbformat_minor": 4
}
